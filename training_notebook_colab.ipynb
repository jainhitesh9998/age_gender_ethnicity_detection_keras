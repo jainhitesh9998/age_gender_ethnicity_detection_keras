{
  "nbformat": 4,
  "nbformat_minor": 0,
  "metadata": {
    "colab": {
      "name": "Hello, Colaboratory",
      "version": "0.3.2",
      "provenance": [],
      "collapsed_sections": [],
      "toc_visible": true,
      "include_colab_link": true
    },
    "kernelspec": {
      "display_name": "Python 3",
      "name": "python3"
    },
    "accelerator": "GPU"
  },
  "cells": [
    {
      "cell_type": "markdown",
      "metadata": {
        "id": "view-in-github",
        "colab_type": "text"
      },
      "source": [
        "[View in Colaboratory](https://colab.research.google.com/github/jainhitesh9998/age_gender_race_detection_keras/blob/master/training_notebook_colab.ipynb)"
      ]
    },
    {
      "metadata": {
        "id": "jnwn5gtqcb0M",
        "colab_type": "code",
        "colab": {
          "base_uri": "https://localhost:8080/",
          "height": 134
        },
        "outputId": "d2929f6f-fb4a-43f3-e745-63e0d73a5290"
      },
      "cell_type": "code",
      "source": [
        "!git clone https://github.com/jainhitesh9998/age_gender_race_detection_keras.git"
      ],
      "execution_count": 1,
      "outputs": [
        {
          "output_type": "stream",
          "text": [
            "Cloning into 'age_gender_race_detection_keras'...\n",
            "remote: Counting objects: 23363, done.\u001b[K\n",
            "remote: Compressing objects: 100% (23353/23353), done.\u001b[K\n",
            "remote: Total 23363 (delta 9), reused 23360 (delta 6), pack-reused 0\u001b[K\n",
            "Receiving objects: 100% (23363/23363), 154.03 MiB | 29.27 MiB/s, done.\n",
            "Resolving deltas: 100% (9/9), done.\n",
            "Checking out files: 100% (33511/33511), done.\n"
          ],
          "name": "stdout"
        }
      ]
    },
    {
      "metadata": {
        "id": "VEkbFpjzclPJ",
        "colab_type": "code",
        "colab": {
          "base_uri": "https://localhost:8080/",
          "height": 34
        },
        "outputId": "e9767cf2-c6de-4ec5-979a-c59b120a8455"
      },
      "cell_type": "code",
      "source": [
        "cd age_gender_race_detection_keras/weights/"
      ],
      "execution_count": 2,
      "outputs": [
        {
          "output_type": "stream",
          "text": [
            "/content/age_gender_race_detection_keras/weights\n"
          ],
          "name": "stdout"
        }
      ]
    },
    {
      "metadata": {
        "id": "ZTKPJLvHcqlY",
        "colab_type": "code",
        "colab": {
          "base_uri": "https://localhost:8080/",
          "height": 50
        },
        "outputId": "a3d8407a-2b15-47e4-c3d5-ebf0cfcbcb61"
      },
      "cell_type": "code",
      "source": [
        "!wget https://github.com/Tony607/Keras_age_gender/releases/download/V1.0/weights.18-4.06.hdf5"
      ],
      "execution_count": 3,
      "outputs": [
        {
          "output_type": "stream",
          "text": [
            "\n",
            "Redirecting output to ‘wget-log’.\n"
          ],
          "name": "stdout"
        }
      ]
    },
    {
      "metadata": {
        "id": "CsOYAh63cwGh",
        "colab_type": "code",
        "colab": {
          "base_uri": "https://localhost:8080/",
          "height": 34
        },
        "outputId": "f1cbbe56-ec66-4908-b881-27207655633f"
      },
      "cell_type": "code",
      "source": [
        "cd .."
      ],
      "execution_count": 4,
      "outputs": [
        {
          "output_type": "stream",
          "text": [
            "/content/age_gender_race_detection_keras\n"
          ],
          "name": "stdout"
        }
      ]
    },
    {
      "metadata": {
        "id": "ZgkAEX3pc2tx",
        "colab_type": "code",
        "colab": {
          "base_uri": "https://localhost:8080/",
          "height": 34
        },
        "outputId": "fbc7d577-4bd6-4a48-e8de-f43400c38150"
      },
      "cell_type": "code",
      "source": [
        "!python trainer.py"
      ],
      "execution_count": 5,
      "outputs": [
        {
          "output_type": "stream",
          "text": [
            "Using TensorFlow backend.\n"
          ],
          "name": "stdout"
        }
      ]
    },
    {
      "metadata": {
        "id": "-bcCpkPMc6yL",
        "colab_type": "code",
        "colab": {}
      },
      "cell_type": "code",
      "source": [
        "from wide_resnet import wide_resnet\n",
        "from utils import utils\n",
        "import sklearn\n",
        "from sklearn.model_selection import train_test_split\n",
        "from keras.utils import to_categorical\n",
        "import os\n",
        "import numpy as np\n",
        "from keras.callbacks import ModelCheckpoint\n",
        "\n",
        "def generator(samples, batch_size = 32):\n",
        "    num_samples = len(samples)\n",
        "    print(num_samples)\n",
        "    while 1: #to run the generator indefinitely, pumping the X, Y sets for the neural network\n",
        "        #shuffle the samples on each EPOCH\n",
        "        sklearn.utils.shuffle(samples)\n",
        "        for offset in range(0, num_samples, batch_size):\n",
        "            batch_samples = samples[offset: offset + batch_size]\n",
        "            labels = []\n",
        "            images = []\n",
        "            ages = []\n",
        "            genders = []\n",
        "            races = []\n",
        "            age = []\n",
        "            gender = []\n",
        "            race = []\n",
        "            for batch_sample in batch_samples:\n",
        "                path, a, g, r = batch_sample\n",
        "                name =  os.path.split(batch_sample[0])[-1]\n",
        "                image = utils.read_image(path)\n",
        "                #print(image.shape)\n",
        "                if(a>100):\n",
        "                  continue\n",
        "                images.append(image)\n",
        "                age.append(a)\n",
        "                gender.append(abs(1 - g))\n",
        "                race.append(r)\n",
        "            ages = to_categorical(age, num_classes=101)\n",
        "            genders = to_categorical(gender, num_classes=2)\n",
        "            races = to_categorical(race, num_classes=5)\n",
        "            labels = [np.array(genders), np.array(ages), np.array(races)]\n",
        "            X_train = np.array(images)\n",
        "            yield X_train,labels\n",
        "\n",
        "def main():\n",
        "    samples = utils.read_csv('extras/data.csv')\n",
        "    model = wide_resnet.WideResNet(image_size=64, race=True, train_branch=True)()\n",
        "    model.compile(loss='categorical_crossentropy', optimizer='adam', metrics=['mae', 'acc'])\n",
        "    sklearn.utils.shuffle(samples)\n",
        "    train_samples, validation_samples = train_test_split(samples, test_size=0.2)\n",
        "    # Hyperparameters\n",
        "    train_generator = generator(train_samples, 1)\n",
        "    validation_generator = generator(validation_samples, 1)\n",
        "    epoch = 10\n",
        "    # end of hyperparameters\n",
        "    filepath=\"weights-improvement-{epoch:02d}-{val_acc:.2f}.hdf5\"\n",
        "    checkpoint = ModelCheckpoint(filepath, monitor='val_acc', verbose=1, save_best_only=True, mode='max')\n",
        "    callbacks_list = [checkpoint]\n",
        "\n",
        "    history = model.fit_generator(train_generator, samples_per_epoch=len(train_samples),\n",
        "                                  validation_data=validation_generator, \\\n",
        "                                  nb_val_samples=len(validation_samples), nb_epoch=epoch, callbacks=callbacks_list)\n",
        "    model.save(os.path.join('weights','model_new.h5'))\n"
      ],
      "execution_count": 0,
      "outputs": []
    },
    {
      "metadata": {
        "id": "TG8BPdbTdIBK",
        "colab_type": "code",
        "colab": {
          "base_uri": "https://localhost:8080/",
          "height": 121
        },
        "outputId": "ee68a833-b1ea-4774-9906-d5f6dd82afd8"
      },
      "cell_type": "code",
      "source": [
        "main()"
      ],
      "execution_count": 0,
      "outputs": [
        {
          "output_type": "stream",
          "text": [
            "/usr/local/lib/python3.6/dist-packages/ipykernel_launcher.py:61: UserWarning: The semantics of the Keras 2 argument `steps_per_epoch` is not the same as the Keras 1 argument `samples_per_epoch`. `steps_per_epoch` is the number of batches to draw from the generator at each epoch. Basically steps_per_epoch = samples_per_epoch/batch_size. Similarly `nb_val_samples`->`validation_steps` and `val_samples`->`steps` arguments have changed. Update your method calls accordingly.\n",
            "/usr/local/lib/python3.6/dist-packages/ipykernel_launcher.py:61: UserWarning: Update your `fit_generator` call to the Keras 2 API: `fit_generator(<generator..., validation_data=<generator..., callbacks=[<keras.ca..., steps_per_epoch=26767, epochs=10, validation_steps=6692)`\n"
          ],
          "name": "stderr"
        },
        {
          "output_type": "stream",
          "text": [
            "Epoch 1/1026767\n",
            "\n",
            " 1469/26767 [>.............................] - ETA: 29:22 - loss: 19.6178 - gender_detection_loss: 0.6683 - age_detection_loss: 4.8529 - race_loss: 13.5404 - gender_detection_mean_absolute_error: 0.4571 - gender_detection_acc: 0.5773 - age_detection_mean_absolute_error: 0.0194 - age_detection_acc: 0.0177 - race_mean_absolute_error: 0.3362 - race_acc: 0.1593"
          ],
          "name": "stdout"
        }
      ]
    },
    {
      "metadata": {
        "id": "bSgIbnSGdJtj",
        "colab_type": "code",
        "colab": {}
      },
      "cell_type": "code",
      "source": [
        ""
      ],
      "execution_count": 0,
      "outputs": []
    }
  ]
}